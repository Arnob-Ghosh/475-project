{
 "cells": [
  {
   "cell_type": "code",
   "execution_count": 3,
   "source": [
    "\r\n",
    "import pandas as pd\r\n",
    "\r\n",
    "ratings=pd.read_csv('ratings.csv')\r\n",
    "movies=pd.read_csv('movies.csv')\r\n",
    "ratings=pd.merge(movies,ratings).drop(['timestamp'],axis=1)\r\n",
    "ratings.head()\r\n",
    "\r\n",
    "user_ratings= ratings.pivot_table(index=['userId'],columns=['title'],values='rating')\r\n",
    "user_ratings.head()\r\n",
    "\r\n",
    "user_ratings=user_ratings.dropna(thresh=10,axis=1).fillna(0)\r\n",
    "\r\n",
    "item_similarity_df=user_ratings.corr(method='pearson')\r\n",
    "item_similarity_df.head(50)\r\n",
    "\r\n",
    "def get_similar_movies(movie_name,user_rating):\r\n",
    "    similar_score = item_similarity_df[movie_name]*(user_rating-2.5)\r\n",
    "    similar_score = similar_score.sort_values(ascending= False)\r\n",
    "    return similar_score\r\n",
    "\r\n",
    "action_lover = [(\"Amazing Spider-Man, The (2012)\",5),(\"Mission: Impossible III (2006)\",4),(\"Toy Story 3 (2010)\",2),(\"2 Fast 2 Furious (Fast and the Furious 2, The) (2003)\",4)]\r\n",
    "similar_movies = pd.DataFrame()\r\n",
    "for movie,rating in action_lover:\r\n",
    "    similar_movies = similar_movies.append(get_similar_movies(movie,rating),ignore_index = True)\r\n",
    "\r\n",
    "similar_movies.head(10)\r\n",
    "similar_movies.sum().sort_values(ascending=False).head(50)"
   ],
   "outputs": [
    {
     "output_type": "execute_result",
     "data": {
      "text/plain": [
       "Amazing Spider-Man, The (2012)                                                 3.233134\n",
       "Mission: Impossible III (2006)                                                 2.874798\n",
       "2 Fast 2 Furious (Fast and the Furious 2, The) (2003)                          2.701477\n",
       "Over the Hedge (2006)                                                          2.229721\n",
       "Crank (2006)                                                                   2.176259\n",
       "Mission: Impossible - Ghost Protocol (2011)                                    2.159666\n",
       "Hancock (2008)                                                                 2.156098\n",
       "The Amazing Spider-Man 2 (2014)                                                2.153677\n",
       "Hellboy (2004)                                                                 2.137518\n",
       "Snakes on a Plane (2006)                                                       2.137396\n",
       "Jumper (2008)                                                                  2.129716\n",
       "Chronicles of Riddick, The (2004)                                              2.121689\n",
       "Tron: Legacy (2010)                                                            2.111843\n",
       "Fantastic Four (2005)                                                          2.083022\n",
       "X-Men: The Last Stand (2006)                                                   2.077530\n",
       "Wreck-It Ralph (2012)                                                          2.067907\n",
       "Kung Fu Hustle (Gong fu) (2004)                                                2.067457\n",
       "Godzilla (2014)                                                                2.061653\n",
       "Incredible Hulk, The (2008)                                                    2.050104\n",
       "Quantum of Solace (2008)                                                       2.016189\n",
       "Captain America: The First Avenger (2011)                                      2.008849\n",
       "World War Z (2013)                                                             2.005536\n",
       "Thor (2011)                                                                    2.002272\n",
       "S.W.A.T. (2003)                                                                1.991985\n",
       "Predators (2010)                                                               1.987758\n",
       "Thor: The Dark World (2013)                                                    1.985323\n",
       "Fast and the Furious, The (2001)                                               1.977954\n",
       "Dredd (2012)                                                                   1.967680\n",
       "Fast & Furious (Fast and the Furious 4, The) (2009)                            1.964178\n",
       "Rundown, The (2003)                                                            1.946526\n",
       "Dawn of the Planet of the Apes (2014)                                          1.943190\n",
       "Grudge, The (2004)                                                             1.942127\n",
       "Fast Five (Fast and the Furious 5, The) (2011)                                 1.934279\n",
       "Green Lantern (2011)                                                           1.929760\n",
       "Reign of Fire (2002)                                                           1.926866\n",
       "Get Smart (2008)                                                               1.926395\n",
       "King Kong (2005)                                                               1.920119\n",
       "A-Team, The (2010)                                                             1.916262\n",
       "Man of Steel (2013)                                                            1.904475\n",
       "Resident Evil (2002)                                                           1.902238\n",
       "Disturbia (2007)                                                               1.893869\n",
       "I, Robot (2004)                                                                1.891827\n",
       "30 Days of Night (2007)                                                        1.891121\n",
       "Iron Man 2 (2010)                                                              1.890780\n",
       "Transporter, The (2002)                                                        1.887253\n",
       "Transporter 2 (2005)                                                           1.885966\n",
       "Jack Reacher (2012)                                                            1.879585\n",
       "Rise of the Planet of the Apes (2011)                                          1.876973\n",
       "Fast and the Furious: Tokyo Drift, The (Fast and the Furious 3, The) (2006)    1.876244\n",
       "Kick-Ass 2 (2013)                                                              1.873942\n",
       "dtype: float64"
      ]
     },
     "metadata": {},
     "execution_count": 3
    }
   ],
   "metadata": {}
  }
 ],
 "metadata": {
  "orig_nbformat": 4,
  "language_info": {
   "name": "python",
   "version": "3.8.5",
   "mimetype": "text/x-python",
   "codemirror_mode": {
    "name": "ipython",
    "version": 3
   },
   "pygments_lexer": "ipython3",
   "nbconvert_exporter": "python",
   "file_extension": ".py"
  },
  "kernelspec": {
   "name": "python3",
   "display_name": "Python 3.8.5 64-bit ('base': conda)"
  },
  "interpreter": {
   "hash": "999d6c585aa3478cecf2d3c40bc83aff48b339fa41c54383da074780566f5ecc"
  }
 },
 "nbformat": 4,
 "nbformat_minor": 2
}